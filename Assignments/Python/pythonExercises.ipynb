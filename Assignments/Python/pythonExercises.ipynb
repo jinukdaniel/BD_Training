{
 "cells": [
  {
   "cell_type": "markdown",
   "id": "efd9282d",
   "metadata": {},
   "source": [
    "PYTHON EXERCISES:"
   ]
  },
  {
   "cell_type": "code",
   "execution_count": 3,
   "id": "7f614745",
   "metadata": {},
   "outputs": [],
   "source": [
    "import pandas as pd;"
   ]
  },
  {
   "cell_type": "markdown",
   "id": "8f85b6c0",
   "metadata": {},
   "source": [
    "1. Load a CSV file into a pandas DataFrame."
   ]
  },
  {
   "cell_type": "code",
   "execution_count": null,
   "id": "b393ab56",
   "metadata": {},
   "outputs": [],
   "source": [
    "location_df = pd.read_csv('../csv_files/locations.csv')"
   ]
  },
  {
   "cell_type": "markdown",
   "id": "5d4edf2a",
   "metadata": {},
   "source": [
    "2. Check the first 5 rows of the DataFrame."
   ]
  },
  {
   "cell_type": "code",
   "execution_count": null,
   "id": "f9d19784",
   "metadata": {},
   "outputs": [],
   "source": [
    "print(location_df.head(5))"
   ]
  },
  {
   "cell_type": "markdown",
   "id": "34c03032",
   "metadata": {},
   "source": [
    "3. Get the shape of the DataFrame (rows, columns)."
   ]
  },
  {
   "cell_type": "code",
   "execution_count": 6,
   "id": "6cc222b2",
   "metadata": {},
   "outputs": [
    {
     "name": "stdout",
     "output_type": "stream",
     "text": [
      "(10, 2)\n"
     ]
    }
   ],
   "source": [
    "print(location_df.shape)"
   ]
  },
  {
   "cell_type": "markdown",
   "id": "5ad8ede1",
   "metadata": {},
   "source": [
    "4. Get summary statistics (mean, median, mode, std) of numerical columns."
   ]
  },
  {
   "cell_type": "code",
   "execution_count": 11,
   "id": "1386df0d",
   "metadata": {},
   "outputs": [],
   "source": [
    "employees_df = pd.read_csv('../csv_files/employees.csv')\n",
    "\t"
   ]
  },
  {
   "cell_type": "code",
   "execution_count": null,
   "id": "d000d616",
   "metadata": {},
   "outputs": [
    {
     "name": "stdout",
     "output_type": "stream",
     "text": [
      "Mean of Numeric Columns\n",
      "-----------------------\n",
      "EmployeeID        5.5\n",
      "Salary        48950.0\n",
      "dtype: float64\n"
     ]
    }
   ],
   "source": [
    "print('4.1 Mean of numeric columns')\n",
    "print('-----------------------')\n",
    "print(employees_df.mean(numeric_only=True))"
   ]
  },
  {
   "cell_type": "code",
   "execution_count": null,
   "id": "a015c022",
   "metadata": {},
   "outputs": [
    {
     "name": "stdout",
     "output_type": "stream",
     "text": [
      "Mode of numeric columns\n",
      "-----------------------\n",
      "   EmployeeID  Salary\n",
      "0           1     500\n",
      "1           2    3000\n",
      "2           3   46000\n",
      "3           4   49000\n",
      "4           5   52000\n",
      "5           6   55000\n",
      "6           7   60000\n",
      "7           8   67000\n",
      "8           9   75000\n",
      "9          10   82000\n"
     ]
    }
   ],
   "source": [
    "print('4.2 Mode of numeric columns')\n",
    "print('-----------------------')\n",
    "mode_value = employees_df.mode(numeric_only=True)\n",
    "print(mode_value)"
   ]
  },
  {
   "cell_type": "code",
   "execution_count": null,
   "id": "748d2ae0",
   "metadata": {},
   "outputs": [
    {
     "name": "stdout",
     "output_type": "stream",
     "text": [
      "Median of numeric columns\n",
      "-----------------------\n",
      "EmployeeID        5.5\n",
      "Salary        53500.0\n",
      "dtype: float64\n"
     ]
    }
   ],
   "source": [
    "print('4.3 Median of numeric columns')\n",
    "print('-----------------------')\n",
    "print(employees_df.median(numeric_only=True))"
   ]
  },
  {
   "cell_type": "code",
   "execution_count": null,
   "id": "069f9d04",
   "metadata": {},
   "outputs": [
    {
     "name": "stdout",
     "output_type": "stream",
     "text": [
      "Std of numeric columns\n",
      "-----------------------\n",
      "EmployeeID        3.027650\n",
      "Salary        27350.045704\n",
      "dtype: float64\n"
     ]
    }
   ],
   "source": [
    "print('4.4 Std of numeric columns')\n",
    "print('-----------------------')\n",
    "print(employees_df.std(numeric_only=True))"
   ]
  },
  {
   "cell_type": "markdown",
   "id": "328fa3b2",
   "metadata": {},
   "source": [
    "5. Get the data types of each column."
   ]
  },
  {
   "cell_type": "code",
   "execution_count": 30,
   "id": "76ee9b01",
   "metadata": {},
   "outputs": [
    {
     "name": "stdout",
     "output_type": "stream",
     "text": [
      "EmployeeID     int64\n",
      "Name          object\n",
      "Department    object\n",
      "Salary         int64\n",
      "dtype: object\n"
     ]
    }
   ],
   "source": [
    "print(employees_df.dtypes)"
   ]
  },
  {
   "cell_type": "markdown",
   "id": "0b821df3",
   "metadata": {},
   "source": [
    "6. Check for missing values in each column."
   ]
  },
  {
   "cell_type": "code",
   "execution_count": 42,
   "id": "c7d6ed19",
   "metadata": {},
   "outputs": [
    {
     "name": "stdout",
     "output_type": "stream",
     "text": [
      "EmployeeID    0\n",
      "Name          0\n",
      "Department    0\n",
      "Salary        0\n",
      "dtype: int64\n"
     ]
    }
   ],
   "source": [
    "'''missing = employees_df.isnull().sum()\n",
    "print(missing[missing > 0])'''\n",
    "\n",
    "print(employees_df.isnull().sum())"
   ]
  },
  {
   "cell_type": "markdown",
   "id": "360865c0",
   "metadata": {},
   "source": [
    "7. Rename a column in the DataFrame."
   ]
  },
  {
   "cell_type": "code",
   "execution_count": 40,
   "id": "66378ff8",
   "metadata": {},
   "outputs": [
    {
     "name": "stdout",
     "output_type": "stream",
     "text": [
      "   EmployeeID       Location\n",
      "0           1       New York\n",
      "1           2  San Francisco\n",
      "2           3         Boston\n",
      "3           4        Chicago\n",
      "4           5    Los Angeles\n",
      "5           6         Austin\n",
      "6           7          Miami\n",
      "7           8         Dallas\n",
      "8           9        Seattle\n",
      "9          10         Denver\n",
      "   EmpID       Location\n",
      "0      1       New York\n",
      "1      2  San Francisco\n",
      "2      3         Boston\n",
      "3      4        Chicago\n",
      "4      5    Los Angeles\n",
      "5      6         Austin\n",
      "6      7          Miami\n",
      "7      8         Dallas\n",
      "8      9        Seattle\n",
      "9     10         Denver\n"
     ]
    }
   ],
   "source": [
    "print(location_df)\n",
    "temp_location_df = location_df.rename(columns={'EmployeeID':'EmpID'})\n",
    "print(temp_location_df)"
   ]
  },
  {
   "cell_type": "markdown",
   "id": "21de1e6e",
   "metadata": {},
   "source": [
    "8. Filter the DataFrame to get rows where a column value is greater than a certain number."
   ]
  },
  {
   "cell_type": "code",
   "execution_count": 38,
   "id": "a8061536",
   "metadata": {},
   "outputs": [
    {
     "data": {
      "text/html": [
       "<div>\n",
       "<style scoped>\n",
       "    .dataframe tbody tr th:only-of-type {\n",
       "        vertical-align: middle;\n",
       "    }\n",
       "\n",
       "    .dataframe tbody tr th {\n",
       "        vertical-align: top;\n",
       "    }\n",
       "\n",
       "    .dataframe thead th {\n",
       "        text-align: right;\n",
       "    }\n",
       "</style>\n",
       "<table border=\"1\" class=\"dataframe\">\n",
       "  <thead>\n",
       "    <tr style=\"text-align: right;\">\n",
       "      <th></th>\n",
       "      <th>EmployeeID</th>\n",
       "      <th>Name</th>\n",
       "      <th>Department</th>\n",
       "      <th>Salary</th>\n",
       "    </tr>\n",
       "  </thead>\n",
       "  <tbody>\n",
       "    <tr>\n",
       "      <th>0</th>\n",
       "      <td>1</td>\n",
       "      <td>John</td>\n",
       "      <td>Engineering</td>\n",
       "      <td>55000</td>\n",
       "    </tr>\n",
       "    <tr>\n",
       "      <th>2</th>\n",
       "      <td>3</td>\n",
       "      <td>Peter</td>\n",
       "      <td>Engineering</td>\n",
       "      <td>60000</td>\n",
       "    </tr>\n",
       "    <tr>\n",
       "      <th>3</th>\n",
       "      <td>4</td>\n",
       "      <td>Linda</td>\n",
       "      <td>HR</td>\n",
       "      <td>75000</td>\n",
       "    </tr>\n",
       "    <tr>\n",
       "      <th>5</th>\n",
       "      <td>6</td>\n",
       "      <td>Patricia</td>\n",
       "      <td>Engineering</td>\n",
       "      <td>52000</td>\n",
       "    </tr>\n",
       "    <tr>\n",
       "      <th>6</th>\n",
       "      <td>7</td>\n",
       "      <td>Michael</td>\n",
       "      <td>HR</td>\n",
       "      <td>82000</td>\n",
       "    </tr>\n",
       "    <tr>\n",
       "      <th>7</th>\n",
       "      <td>8</td>\n",
       "      <td>Elizabeth</td>\n",
       "      <td>Engineering</td>\n",
       "      <td>67000</td>\n",
       "    </tr>\n",
       "  </tbody>\n",
       "</table>\n",
       "</div>"
      ],
      "text/plain": [
       "   EmployeeID       Name   Department  Salary\n",
       "0           1       John  Engineering   55000\n",
       "2           3      Peter  Engineering   60000\n",
       "3           4      Linda           HR   75000\n",
       "5           6   Patricia  Engineering   52000\n",
       "6           7    Michael           HR   82000\n",
       "7           8  Elizabeth  Engineering   67000"
      ]
     },
     "execution_count": 38,
     "metadata": {},
     "output_type": "execute_result"
    }
   ],
   "source": [
    "employees_df[employees_df['Salary'] > 50000]"
   ]
  },
  {
   "cell_type": "markdown",
   "id": "8b769e12",
   "metadata": {},
   "source": [
    "9. Select specific columns from the DataFrame."
   ]
  },
  {
   "cell_type": "code",
   "execution_count": 46,
   "id": "7e90baf3",
   "metadata": {},
   "outputs": [
    {
     "data": {
      "text/plain": [
       "0    55000\n",
       "1    46000\n",
       "2    60000\n",
       "3    75000\n",
       "4    49000\n",
       "5    52000\n",
       "6    82000\n",
       "7    67000\n",
       "8      500\n",
       "9     3000\n",
       "Name: Salary, dtype: int64"
      ]
     },
     "execution_count": 46,
     "metadata": {},
     "output_type": "execute_result"
    }
   ],
   "source": [
    "# without header details\n",
    "employees_df['Salary']"
   ]
  },
  {
   "cell_type": "code",
   "execution_count": 47,
   "id": "ee8b0c20",
   "metadata": {},
   "outputs": [
    {
     "data": {
      "text/html": [
       "<div>\n",
       "<style scoped>\n",
       "    .dataframe tbody tr th:only-of-type {\n",
       "        vertical-align: middle;\n",
       "    }\n",
       "\n",
       "    .dataframe tbody tr th {\n",
       "        vertical-align: top;\n",
       "    }\n",
       "\n",
       "    .dataframe thead th {\n",
       "        text-align: right;\n",
       "    }\n",
       "</style>\n",
       "<table border=\"1\" class=\"dataframe\">\n",
       "  <thead>\n",
       "    <tr style=\"text-align: right;\">\n",
       "      <th></th>\n",
       "      <th>Salary</th>\n",
       "    </tr>\n",
       "  </thead>\n",
       "  <tbody>\n",
       "    <tr>\n",
       "      <th>0</th>\n",
       "      <td>55000</td>\n",
       "    </tr>\n",
       "    <tr>\n",
       "      <th>1</th>\n",
       "      <td>46000</td>\n",
       "    </tr>\n",
       "    <tr>\n",
       "      <th>2</th>\n",
       "      <td>60000</td>\n",
       "    </tr>\n",
       "    <tr>\n",
       "      <th>3</th>\n",
       "      <td>75000</td>\n",
       "    </tr>\n",
       "    <tr>\n",
       "      <th>4</th>\n",
       "      <td>49000</td>\n",
       "    </tr>\n",
       "    <tr>\n",
       "      <th>5</th>\n",
       "      <td>52000</td>\n",
       "    </tr>\n",
       "    <tr>\n",
       "      <th>6</th>\n",
       "      <td>82000</td>\n",
       "    </tr>\n",
       "    <tr>\n",
       "      <th>7</th>\n",
       "      <td>67000</td>\n",
       "    </tr>\n",
       "    <tr>\n",
       "      <th>8</th>\n",
       "      <td>500</td>\n",
       "    </tr>\n",
       "    <tr>\n",
       "      <th>9</th>\n",
       "      <td>3000</td>\n",
       "    </tr>\n",
       "  </tbody>\n",
       "</table>\n",
       "</div>"
      ],
      "text/plain": [
       "   Salary\n",
       "0   55000\n",
       "1   46000\n",
       "2   60000\n",
       "3   75000\n",
       "4   49000\n",
       "5   52000\n",
       "6   82000\n",
       "7   67000\n",
       "8     500\n",
       "9    3000"
      ]
     },
     "execution_count": 47,
     "metadata": {},
     "output_type": "execute_result"
    }
   ],
   "source": [
    "# with header details\n",
    "employees_df[['Salary']]"
   ]
  },
  {
   "cell_type": "code",
   "execution_count": null,
   "id": "a6fb42ca",
   "metadata": {},
   "outputs": [],
   "source": [
    "'''\n",
    "employees_df[employees_df['Salary'] > 40000]\n",
    "employees_df[employees_df['Salary'] > 60000][['Name']]\n",
    "employees_df[employees_df['Salary'] > 60000][['Name','Salary']] \n",
    "'''"
   ]
  },
  {
   "cell_type": "markdown",
   "id": "cfdb791c",
   "metadata": {},
   "source": [
    "10. Drop a column from the DataFrame."
   ]
  },
  {
   "cell_type": "code",
   "execution_count": 51,
   "id": "6c532a9f",
   "metadata": {},
   "outputs": [
    {
     "name": "stdout",
     "output_type": "stream",
     "text": [
      "   EmployeeID       Name   Department  Salary\n",
      "0           1       John  Engineering   55000\n",
      "1           2       Anna    Marketing   46000\n",
      "2           3      Peter  Engineering   60000\n",
      "3           4      Linda           HR   75000\n",
      "4           5      James    Marketing   49000\n",
      "5           6   Patricia  Engineering   52000\n",
      "6           7    Michael           HR   82000\n",
      "7           8  Elizabeth  Engineering   67000\n",
      "8           9      David    Marketing     500\n",
      "9          10      Susan           HR    3000\n",
      "   EmployeeID       Name   Department\n",
      "0           1       John  Engineering\n",
      "1           2       Anna    Marketing\n",
      "2           3      Peter  Engineering\n",
      "3           4      Linda           HR\n",
      "4           5      James    Marketing\n",
      "5           6   Patricia  Engineering\n",
      "6           7    Michael           HR\n",
      "7           8  Elizabeth  Engineering\n",
      "8           9      David    Marketing\n",
      "9          10      Susan           HR\n"
     ]
    }
   ],
   "source": [
    "print(employees_df)\n",
    "empDrop_df = employees_df.drop('Salary', axis=1)\n",
    "print(empDrop_df)"
   ]
  },
  {
   "cell_type": "markdown",
   "id": "f72d6336",
   "metadata": {},
   "source": [
    "\tMethod 1: Using drop() method\t\n",
    "\t\ta. Drop column - returns new data frame, exist new data frame\n",
    "\t\t\t\tdf = df.drop('Salary', axis=1)\n",
    "\t\tb. Drop column - modifies existing data frame\n",
    "\t\t\t\tdf.drop('Salary', axis=1, inplace=True)\n",
    "\tMethod 2: Using del statement\n",
    "\t\ta. Removes the column in place\n",
    "\t\t\t\tdel df['Salary']\n",
    "\tMethod 3: Using pop() method\n",
    "\t\ta. Removes the column and return it as separate\n",
    "\t\t\t\tsalary_column = df.pop('Salary')\n",
    "\tMethod 4: Reassigning with column selction (excludes column)\n",
    "\t\ta. create new dataframe that excludes the column\n",
    "\t\t\t\tdf = df[[col for col in df.columns if col != 'Salary']]"
   ]
  },
  {
   "cell_type": "markdown",
   "id": "e97c7501",
   "metadata": {},
   "source": [
    "11. Apply a transformation to a column (e.g., multiply each value by 2)"
   ]
  },
  {
   "cell_type": "code",
   "execution_count": null,
   "id": "411f3b00",
   "metadata": {},
   "outputs": [
    {
     "data": {
      "text/html": [
       "<div>\n",
       "<style scoped>\n",
       "    .dataframe tbody tr th:only-of-type {\n",
       "        vertical-align: middle;\n",
       "    }\n",
       "\n",
       "    .dataframe tbody tr th {\n",
       "        vertical-align: top;\n",
       "    }\n",
       "\n",
       "    .dataframe thead th {\n",
       "        text-align: right;\n",
       "    }\n",
       "</style>\n",
       "<table border=\"1\" class=\"dataframe\">\n",
       "  <thead>\n",
       "    <tr style=\"text-align: right;\">\n",
       "      <th></th>\n",
       "      <th>EmployeeID</th>\n",
       "      <th>Name</th>\n",
       "      <th>Department</th>\n",
       "      <th>Salary</th>\n",
       "    </tr>\n",
       "  </thead>\n",
       "  <tbody>\n",
       "    <tr>\n",
       "      <th>0</th>\n",
       "      <td>1</td>\n",
       "      <td>John</td>\n",
       "      <td>Engineering</td>\n",
       "      <td>110000</td>\n",
       "    </tr>\n",
       "    <tr>\n",
       "      <th>1</th>\n",
       "      <td>2</td>\n",
       "      <td>Anna</td>\n",
       "      <td>Marketing</td>\n",
       "      <td>92000</td>\n",
       "    </tr>\n",
       "    <tr>\n",
       "      <th>2</th>\n",
       "      <td>3</td>\n",
       "      <td>Peter</td>\n",
       "      <td>Engineering</td>\n",
       "      <td>120000</td>\n",
       "    </tr>\n",
       "    <tr>\n",
       "      <th>3</th>\n",
       "      <td>4</td>\n",
       "      <td>Linda</td>\n",
       "      <td>HR</td>\n",
       "      <td>150000</td>\n",
       "    </tr>\n",
       "    <tr>\n",
       "      <th>4</th>\n",
       "      <td>5</td>\n",
       "      <td>James</td>\n",
       "      <td>Marketing</td>\n",
       "      <td>98000</td>\n",
       "    </tr>\n",
       "    <tr>\n",
       "      <th>5</th>\n",
       "      <td>6</td>\n",
       "      <td>Patricia</td>\n",
       "      <td>Engineering</td>\n",
       "      <td>104000</td>\n",
       "    </tr>\n",
       "    <tr>\n",
       "      <th>6</th>\n",
       "      <td>7</td>\n",
       "      <td>Michael</td>\n",
       "      <td>HR</td>\n",
       "      <td>164000</td>\n",
       "    </tr>\n",
       "    <tr>\n",
       "      <th>7</th>\n",
       "      <td>8</td>\n",
       "      <td>Elizabeth</td>\n",
       "      <td>Engineering</td>\n",
       "      <td>134000</td>\n",
       "    </tr>\n",
       "    <tr>\n",
       "      <th>8</th>\n",
       "      <td>9</td>\n",
       "      <td>David</td>\n",
       "      <td>Marketing</td>\n",
       "      <td>1000</td>\n",
       "    </tr>\n",
       "    <tr>\n",
       "      <th>9</th>\n",
       "      <td>10</td>\n",
       "      <td>Susan</td>\n",
       "      <td>HR</td>\n",
       "      <td>6000</td>\n",
       "    </tr>\n",
       "  </tbody>\n",
       "</table>\n",
       "</div>"
      ],
      "text/plain": [
       "   EmployeeID       Name   Department  Salary\n",
       "0           1       John  Engineering  110000\n",
       "1           2       Anna    Marketing   92000\n",
       "2           3      Peter  Engineering  120000\n",
       "3           4      Linda           HR  150000\n",
       "4           5      James    Marketing   98000\n",
       "5           6   Patricia  Engineering  104000\n",
       "6           7    Michael           HR  164000\n",
       "7           8  Elizabeth  Engineering  134000\n",
       "8           9      David    Marketing    1000\n",
       "9          10      Susan           HR    6000"
      ]
     },
     "execution_count": 53,
     "metadata": {},
     "output_type": "execute_result"
    }
   ],
   "source": [
    "employees_df['Salary'] = employees_df['Salary'] * 2\n",
    "employees_df"
   ]
  },
  {
   "cell_type": "markdown",
   "id": "a73e0048",
   "metadata": {},
   "source": [
    "12. Add a new column based on an operation on existing columns."
   ]
  },
  {
   "cell_type": "code",
   "execution_count": 58,
   "id": "209d5d3a",
   "metadata": {},
   "outputs": [
    {
     "data": {
      "text/html": [
       "<div>\n",
       "<style scoped>\n",
       "    .dataframe tbody tr th:only-of-type {\n",
       "        vertical-align: middle;\n",
       "    }\n",
       "\n",
       "    .dataframe tbody tr th {\n",
       "        vertical-align: top;\n",
       "    }\n",
       "\n",
       "    .dataframe thead th {\n",
       "        text-align: right;\n",
       "    }\n",
       "</style>\n",
       "<table border=\"1\" class=\"dataframe\">\n",
       "  <thead>\n",
       "    <tr style=\"text-align: right;\">\n",
       "      <th></th>\n",
       "      <th>EmployeeID</th>\n",
       "      <th>Name</th>\n",
       "      <th>Department</th>\n",
       "      <th>Salary</th>\n",
       "      <th>Annual Income</th>\n",
       "    </tr>\n",
       "  </thead>\n",
       "  <tbody>\n",
       "    <tr>\n",
       "      <th>0</th>\n",
       "      <td>1</td>\n",
       "      <td>John</td>\n",
       "      <td>Engineering</td>\n",
       "      <td>55000</td>\n",
       "      <td>660000</td>\n",
       "    </tr>\n",
       "    <tr>\n",
       "      <th>1</th>\n",
       "      <td>2</td>\n",
       "      <td>Anna</td>\n",
       "      <td>Marketing</td>\n",
       "      <td>46000</td>\n",
       "      <td>552000</td>\n",
       "    </tr>\n",
       "    <tr>\n",
       "      <th>2</th>\n",
       "      <td>3</td>\n",
       "      <td>Peter</td>\n",
       "      <td>Engineering</td>\n",
       "      <td>60000</td>\n",
       "      <td>720000</td>\n",
       "    </tr>\n",
       "    <tr>\n",
       "      <th>3</th>\n",
       "      <td>4</td>\n",
       "      <td>Linda</td>\n",
       "      <td>HR</td>\n",
       "      <td>75000</td>\n",
       "      <td>900000</td>\n",
       "    </tr>\n",
       "    <tr>\n",
       "      <th>4</th>\n",
       "      <td>5</td>\n",
       "      <td>James</td>\n",
       "      <td>Marketing</td>\n",
       "      <td>49000</td>\n",
       "      <td>588000</td>\n",
       "    </tr>\n",
       "    <tr>\n",
       "      <th>5</th>\n",
       "      <td>6</td>\n",
       "      <td>Patricia</td>\n",
       "      <td>Engineering</td>\n",
       "      <td>52000</td>\n",
       "      <td>624000</td>\n",
       "    </tr>\n",
       "    <tr>\n",
       "      <th>6</th>\n",
       "      <td>7</td>\n",
       "      <td>Michael</td>\n",
       "      <td>HR</td>\n",
       "      <td>82000</td>\n",
       "      <td>984000</td>\n",
       "    </tr>\n",
       "    <tr>\n",
       "      <th>7</th>\n",
       "      <td>8</td>\n",
       "      <td>Elizabeth</td>\n",
       "      <td>Engineering</td>\n",
       "      <td>67000</td>\n",
       "      <td>804000</td>\n",
       "    </tr>\n",
       "    <tr>\n",
       "      <th>8</th>\n",
       "      <td>9</td>\n",
       "      <td>David</td>\n",
       "      <td>Marketing</td>\n",
       "      <td>500</td>\n",
       "      <td>6000</td>\n",
       "    </tr>\n",
       "    <tr>\n",
       "      <th>9</th>\n",
       "      <td>10</td>\n",
       "      <td>Susan</td>\n",
       "      <td>HR</td>\n",
       "      <td>3000</td>\n",
       "      <td>36000</td>\n",
       "    </tr>\n",
       "  </tbody>\n",
       "</table>\n",
       "</div>"
      ],
      "text/plain": [
       "   EmployeeID       Name   Department  Salary  Annual Income\n",
       "0           1       John  Engineering   55000         660000\n",
       "1           2       Anna    Marketing   46000         552000\n",
       "2           3      Peter  Engineering   60000         720000\n",
       "3           4      Linda           HR   75000         900000\n",
       "4           5      James    Marketing   49000         588000\n",
       "5           6   Patricia  Engineering   52000         624000\n",
       "6           7    Michael           HR   82000         984000\n",
       "7           8  Elizabeth  Engineering   67000         804000\n",
       "8           9      David    Marketing     500           6000\n",
       "9          10      Susan           HR    3000          36000"
      ]
     },
     "execution_count": 58,
     "metadata": {},
     "output_type": "execute_result"
    }
   ],
   "source": [
    "employees_df['Annual Income'] = employees_df['Salary'] * 12\n",
    "employees_df\n"
   ]
  },
  {
   "cell_type": "markdown",
   "id": "f8baf012",
   "metadata": {},
   "source": [
    "13. Group the data by a categorical column and get the mean of each group."
   ]
  },
  {
   "cell_type": "code",
   "execution_count": 59,
   "id": "110ee692",
   "metadata": {},
   "outputs": [
    {
     "data": {
      "text/html": [
       "<div>\n",
       "<style scoped>\n",
       "    .dataframe tbody tr th:only-of-type {\n",
       "        vertical-align: middle;\n",
       "    }\n",
       "\n",
       "    .dataframe tbody tr th {\n",
       "        vertical-align: top;\n",
       "    }\n",
       "\n",
       "    .dataframe thead th {\n",
       "        text-align: right;\n",
       "    }\n",
       "</style>\n",
       "<table border=\"1\" class=\"dataframe\">\n",
       "  <thead>\n",
       "    <tr style=\"text-align: right;\">\n",
       "      <th></th>\n",
       "      <th>EmployeeID</th>\n",
       "      <th>Salary</th>\n",
       "      <th>Annual Income</th>\n",
       "    </tr>\n",
       "    <tr>\n",
       "      <th>Department</th>\n",
       "      <th></th>\n",
       "      <th></th>\n",
       "      <th></th>\n",
       "    </tr>\n",
       "  </thead>\n",
       "  <tbody>\n",
       "    <tr>\n",
       "      <th>Engineering</th>\n",
       "      <td>4.500000</td>\n",
       "      <td>58500.000000</td>\n",
       "      <td>702000.0</td>\n",
       "    </tr>\n",
       "    <tr>\n",
       "      <th>HR</th>\n",
       "      <td>7.000000</td>\n",
       "      <td>53333.333333</td>\n",
       "      <td>640000.0</td>\n",
       "    </tr>\n",
       "    <tr>\n",
       "      <th>Marketing</th>\n",
       "      <td>5.333333</td>\n",
       "      <td>31833.333333</td>\n",
       "      <td>382000.0</td>\n",
       "    </tr>\n",
       "  </tbody>\n",
       "</table>\n",
       "</div>"
      ],
      "text/plain": [
       "             EmployeeID        Salary  Annual Income\n",
       "Department                                          \n",
       "Engineering    4.500000  58500.000000       702000.0\n",
       "HR             7.000000  53333.333333       640000.0\n",
       "Marketing      5.333333  31833.333333       382000.0"
      ]
     },
     "execution_count": 59,
     "metadata": {},
     "output_type": "execute_result"
    }
   ],
   "source": [
    "mean_df = employees_df.groupby('Department').mean(numeric_only=True)\n",
    "mean_df"
   ]
  },
  {
   "cell_type": "code",
   "execution_count": null,
   "id": "7dd7f1c3",
   "metadata": {},
   "outputs": [
    {
     "data": {
      "text/html": [
       "<div>\n",
       "<style scoped>\n",
       "    .dataframe tbody tr th:only-of-type {\n",
       "        vertical-align: middle;\n",
       "    }\n",
       "\n",
       "    .dataframe tbody tr th {\n",
       "        vertical-align: top;\n",
       "    }\n",
       "\n",
       "    .dataframe thead th {\n",
       "        text-align: right;\n",
       "    }\n",
       "</style>\n",
       "<table border=\"1\" class=\"dataframe\">\n",
       "  <thead>\n",
       "    <tr style=\"text-align: right;\">\n",
       "      <th></th>\n",
       "      <th>Annual Income</th>\n",
       "    </tr>\n",
       "    <tr>\n",
       "      <th>Department</th>\n",
       "      <th></th>\n",
       "    </tr>\n",
       "  </thead>\n",
       "  <tbody>\n",
       "    <tr>\n",
       "      <th>Engineering</th>\n",
       "      <td>702000.0</td>\n",
       "    </tr>\n",
       "    <tr>\n",
       "      <th>HR</th>\n",
       "      <td>640000.0</td>\n",
       "    </tr>\n",
       "    <tr>\n",
       "      <th>Marketing</th>\n",
       "      <td>382000.0</td>\n",
       "    </tr>\n",
       "  </tbody>\n",
       "</table>\n",
       "</div>"
      ],
      "text/plain": [
       "             Annual Income\n",
       "Department                \n",
       "Engineering       702000.0\n",
       "HR                640000.0\n",
       "Marketing         382000.0"
      ]
     },
     "execution_count": 62,
     "metadata": {},
     "output_type": "execute_result"
    }
   ],
   "source": [
    "#mean_df = employees_df.groupby('Department')['Salary'].mean()\n",
    "mean_df = employees_df.groupby('Department')[['Annual Income']].mean()\n",
    "mean_df"
   ]
  },
  {
   "cell_type": "markdown",
   "id": "1b896983",
   "metadata": {},
   "source": [
    "14. Sort the DataFrame based on a specific column."
   ]
  },
  {
   "cell_type": "code",
   "execution_count": 63,
   "id": "70818011",
   "metadata": {},
   "outputs": [
    {
     "data": {
      "text/html": [
       "<div>\n",
       "<style scoped>\n",
       "    .dataframe tbody tr th:only-of-type {\n",
       "        vertical-align: middle;\n",
       "    }\n",
       "\n",
       "    .dataframe tbody tr th {\n",
       "        vertical-align: top;\n",
       "    }\n",
       "\n",
       "    .dataframe thead th {\n",
       "        text-align: right;\n",
       "    }\n",
       "</style>\n",
       "<table border=\"1\" class=\"dataframe\">\n",
       "  <thead>\n",
       "    <tr style=\"text-align: right;\">\n",
       "      <th></th>\n",
       "      <th>EmployeeID</th>\n",
       "      <th>Name</th>\n",
       "      <th>Department</th>\n",
       "      <th>Salary</th>\n",
       "      <th>Annual Income</th>\n",
       "    </tr>\n",
       "  </thead>\n",
       "  <tbody>\n",
       "    <tr>\n",
       "      <th>8</th>\n",
       "      <td>9</td>\n",
       "      <td>David</td>\n",
       "      <td>Marketing</td>\n",
       "      <td>500</td>\n",
       "      <td>6000</td>\n",
       "    </tr>\n",
       "    <tr>\n",
       "      <th>9</th>\n",
       "      <td>10</td>\n",
       "      <td>Susan</td>\n",
       "      <td>HR</td>\n",
       "      <td>3000</td>\n",
       "      <td>36000</td>\n",
       "    </tr>\n",
       "    <tr>\n",
       "      <th>1</th>\n",
       "      <td>2</td>\n",
       "      <td>Anna</td>\n",
       "      <td>Marketing</td>\n",
       "      <td>46000</td>\n",
       "      <td>552000</td>\n",
       "    </tr>\n",
       "    <tr>\n",
       "      <th>4</th>\n",
       "      <td>5</td>\n",
       "      <td>James</td>\n",
       "      <td>Marketing</td>\n",
       "      <td>49000</td>\n",
       "      <td>588000</td>\n",
       "    </tr>\n",
       "    <tr>\n",
       "      <th>5</th>\n",
       "      <td>6</td>\n",
       "      <td>Patricia</td>\n",
       "      <td>Engineering</td>\n",
       "      <td>52000</td>\n",
       "      <td>624000</td>\n",
       "    </tr>\n",
       "    <tr>\n",
       "      <th>0</th>\n",
       "      <td>1</td>\n",
       "      <td>John</td>\n",
       "      <td>Engineering</td>\n",
       "      <td>55000</td>\n",
       "      <td>660000</td>\n",
       "    </tr>\n",
       "    <tr>\n",
       "      <th>2</th>\n",
       "      <td>3</td>\n",
       "      <td>Peter</td>\n",
       "      <td>Engineering</td>\n",
       "      <td>60000</td>\n",
       "      <td>720000</td>\n",
       "    </tr>\n",
       "    <tr>\n",
       "      <th>7</th>\n",
       "      <td>8</td>\n",
       "      <td>Elizabeth</td>\n",
       "      <td>Engineering</td>\n",
       "      <td>67000</td>\n",
       "      <td>804000</td>\n",
       "    </tr>\n",
       "    <tr>\n",
       "      <th>3</th>\n",
       "      <td>4</td>\n",
       "      <td>Linda</td>\n",
       "      <td>HR</td>\n",
       "      <td>75000</td>\n",
       "      <td>900000</td>\n",
       "    </tr>\n",
       "    <tr>\n",
       "      <th>6</th>\n",
       "      <td>7</td>\n",
       "      <td>Michael</td>\n",
       "      <td>HR</td>\n",
       "      <td>82000</td>\n",
       "      <td>984000</td>\n",
       "    </tr>\n",
       "  </tbody>\n",
       "</table>\n",
       "</div>"
      ],
      "text/plain": [
       "   EmployeeID       Name   Department  Salary  Annual Income\n",
       "8           9      David    Marketing     500           6000\n",
       "9          10      Susan           HR    3000          36000\n",
       "1           2       Anna    Marketing   46000         552000\n",
       "4           5      James    Marketing   49000         588000\n",
       "5           6   Patricia  Engineering   52000         624000\n",
       "0           1       John  Engineering   55000         660000\n",
       "2           3      Peter  Engineering   60000         720000\n",
       "7           8  Elizabeth  Engineering   67000         804000\n",
       "3           4      Linda           HR   75000         900000\n",
       "6           7    Michael           HR   82000         984000"
      ]
     },
     "execution_count": 63,
     "metadata": {},
     "output_type": "execute_result"
    }
   ],
   "source": [
    "df_sorted = employees_df.sort_values(by='Salary')\n",
    "df_sorted"
   ]
  },
  {
   "cell_type": "markdown",
   "id": "fd61011c",
   "metadata": {},
   "source": [
    "\ta. Ascending Order\n",
    "\t\tdf_sorted = df.sort_values(by='Salary') \n",
    "\tb. Descending order\n",
    "\t\tdf_sorted = df.sort_values(by='Salary', ascending=False)\n",
    "\tc. Multiple Sorting\n",
    "\tdf_multiple = df.sort_values(by=['Department', 'Salary'], ascending=[True,False])\n",
    "\t\tDepartment (A–Z), Salary (high to low)\n",
    "\tdf_multiple = df.sort_values(by=['Department', 'Salary'], ascending=[True,True])\n",
    "\t\tDepartment (A–Z), Salary (low to high)"
   ]
  },
  {
   "cell_type": "markdown",
   "id": "2abeda5f",
   "metadata": {},
   "source": [
    "15. Merge two DataFrames on a common column."
   ]
  },
  {
   "cell_type": "code",
   "execution_count": null,
   "id": "06a05f92",
   "metadata": {},
   "outputs": [
    {
     "data": {
      "text/html": [
       "<div>\n",
       "<style scoped>\n",
       "    .dataframe tbody tr th:only-of-type {\n",
       "        vertical-align: middle;\n",
       "    }\n",
       "\n",
       "    .dataframe tbody tr th {\n",
       "        vertical-align: top;\n",
       "    }\n",
       "\n",
       "    .dataframe thead th {\n",
       "        text-align: right;\n",
       "    }\n",
       "</style>\n",
       "<table border=\"1\" class=\"dataframe\">\n",
       "  <thead>\n",
       "    <tr style=\"text-align: right;\">\n",
       "      <th></th>\n",
       "      <th>EmployeeID</th>\n",
       "      <th>Name</th>\n",
       "      <th>Department</th>\n",
       "      <th>Salary</th>\n",
       "      <th>Location</th>\n",
       "    </tr>\n",
       "  </thead>\n",
       "  <tbody>\n",
       "    <tr>\n",
       "      <th>0</th>\n",
       "      <td>1</td>\n",
       "      <td>John</td>\n",
       "      <td>Engineering</td>\n",
       "      <td>55000</td>\n",
       "      <td>New York</td>\n",
       "    </tr>\n",
       "    <tr>\n",
       "      <th>1</th>\n",
       "      <td>2</td>\n",
       "      <td>Anna</td>\n",
       "      <td>Marketing</td>\n",
       "      <td>46000</td>\n",
       "      <td>San Francisco</td>\n",
       "    </tr>\n",
       "    <tr>\n",
       "      <th>2</th>\n",
       "      <td>3</td>\n",
       "      <td>Peter</td>\n",
       "      <td>Engineering</td>\n",
       "      <td>60000</td>\n",
       "      <td>Boston</td>\n",
       "    </tr>\n",
       "    <tr>\n",
       "      <th>3</th>\n",
       "      <td>4</td>\n",
       "      <td>Linda</td>\n",
       "      <td>HR</td>\n",
       "      <td>75000</td>\n",
       "      <td>Chicago</td>\n",
       "    </tr>\n",
       "    <tr>\n",
       "      <th>4</th>\n",
       "      <td>5</td>\n",
       "      <td>James</td>\n",
       "      <td>Marketing</td>\n",
       "      <td>49000</td>\n",
       "      <td>Los Angeles</td>\n",
       "    </tr>\n",
       "    <tr>\n",
       "      <th>5</th>\n",
       "      <td>6</td>\n",
       "      <td>Patricia</td>\n",
       "      <td>Engineering</td>\n",
       "      <td>52000</td>\n",
       "      <td>Austin</td>\n",
       "    </tr>\n",
       "    <tr>\n",
       "      <th>6</th>\n",
       "      <td>7</td>\n",
       "      <td>Michael</td>\n",
       "      <td>HR</td>\n",
       "      <td>82000</td>\n",
       "      <td>Miami</td>\n",
       "    </tr>\n",
       "    <tr>\n",
       "      <th>7</th>\n",
       "      <td>8</td>\n",
       "      <td>Elizabeth</td>\n",
       "      <td>Engineering</td>\n",
       "      <td>67000</td>\n",
       "      <td>Dallas</td>\n",
       "    </tr>\n",
       "    <tr>\n",
       "      <th>8</th>\n",
       "      <td>9</td>\n",
       "      <td>David</td>\n",
       "      <td>Marketing</td>\n",
       "      <td>500</td>\n",
       "      <td>Seattle</td>\n",
       "    </tr>\n",
       "    <tr>\n",
       "      <th>9</th>\n",
       "      <td>10</td>\n",
       "      <td>Susan</td>\n",
       "      <td>HR</td>\n",
       "      <td>3000</td>\n",
       "      <td>Denver</td>\n",
       "    </tr>\n",
       "  </tbody>\n",
       "</table>\n",
       "</div>"
      ],
      "text/plain": [
       "   EmployeeID       Name   Department  Salary       Location\n",
       "0           1       John  Engineering   55000       New York\n",
       "1           2       Anna    Marketing   46000  San Francisco\n",
       "2           3      Peter  Engineering   60000         Boston\n",
       "3           4      Linda           HR   75000        Chicago\n",
       "4           5      James    Marketing   49000    Los Angeles\n",
       "5           6   Patricia  Engineering   52000         Austin\n",
       "6           7    Michael           HR   82000          Miami\n",
       "7           8  Elizabeth  Engineering   67000         Dallas\n",
       "8           9      David    Marketing     500        Seattle\n",
       "9          10      Susan           HR    3000         Denver"
      ]
     },
     "execution_count": 65,
     "metadata": {},
     "output_type": "execute_result"
    }
   ],
   "source": [
    "employee_df = pd.read_csv('../csv_files/employees.csv')\n",
    "location_df = pd.read_csv('../csv_files/locations.csv')\n",
    "merged_df = pd.merge(employee_df,location_df,on='EmployeeID')\n",
    "merged_df"
   ]
  },
  {
   "cell_type": "markdown",
   "id": "e44f150f",
   "metadata": {},
   "source": [
    "\tMerge:\n",
    "\t==> used to combine two DataFrames based on common columns or indexes\n",
    "\t==> powerful tool for relational data operations.\n",
    "\t\n",
    "\tpd.merge(emp_df, loc_df, on='common_column', how='join_type')\n",
    "\n",
    "\t1. Inner Join (default)\n",
    "\t\tKeeps only rows with matching values in both DataFrames.\n",
    "\t\t\tpd.merge(emp_df, loc_df, on='common_column', how='inner')\n",
    "\t2. Left Join\n",
    "\t\tKeeps all rows from the left DataFrame, and matches from the right.\t\t\n",
    "\t\t\tpd.merge(emp_df, loc_df, on='common_column', how='left')\n",
    "\t3. Right Join\n",
    "\t\tKeeps all rows from the right DataFrame.\n",
    "\t\t\tpd.merge(emp_df, loc_df, on='common_column', how='right')\n",
    "\t4. Outer Join\n",
    "\t\tKeeps all rows from both DataFrames; fills in NaN where there's no match.\n",
    "\t\t\tpd.merge(emp_df, loc_df, on='common_column', how='outer')"
   ]
  },
  {
   "cell_type": "markdown",
   "id": "2fcc01e9",
   "metadata": {},
   "source": [
    "16. Join two DataFrames using an index."
   ]
  },
  {
   "cell_type": "code",
   "execution_count": 84,
   "id": "906b23d4",
   "metadata": {},
   "outputs": [
    {
     "data": {
      "text/html": [
       "<div>\n",
       "<style scoped>\n",
       "    .dataframe tbody tr th:only-of-type {\n",
       "        vertical-align: middle;\n",
       "    }\n",
       "\n",
       "    .dataframe tbody tr th {\n",
       "        vertical-align: top;\n",
       "    }\n",
       "\n",
       "    .dataframe thead th {\n",
       "        text-align: right;\n",
       "    }\n",
       "</style>\n",
       "<table border=\"1\" class=\"dataframe\">\n",
       "  <thead>\n",
       "    <tr style=\"text-align: right;\">\n",
       "      <th></th>\n",
       "      <th>DepartmentID</th>\n",
       "      <th>Department</th>\n",
       "      <th>Manager</th>\n",
       "    </tr>\n",
       "  </thead>\n",
       "  <tbody>\n",
       "    <tr>\n",
       "      <th>0</th>\n",
       "      <td>1</td>\n",
       "      <td>Engineering</td>\n",
       "      <td>John Doe</td>\n",
       "    </tr>\n",
       "    <tr>\n",
       "      <th>1</th>\n",
       "      <td>2</td>\n",
       "      <td>Marketing</td>\n",
       "      <td>Jane Smith</td>\n",
       "    </tr>\n",
       "    <tr>\n",
       "      <th>2</th>\n",
       "      <td>3</td>\n",
       "      <td>HR</td>\n",
       "      <td>Michael Brown</td>\n",
       "    </tr>\n",
       "  </tbody>\n",
       "</table>\n",
       "</div>"
      ],
      "text/plain": [
       "   DepartmentID   Department        Manager\n",
       "0             1  Engineering       John Doe\n",
       "1             2    Marketing     Jane Smith\n",
       "2             3           HR  Michael Brown"
      ]
     },
     "execution_count": 84,
     "metadata": {},
     "output_type": "execute_result"
    }
   ],
   "source": [
    "employee_df = pd.read_csv('../csv_files/employees.csv')\n",
    "department_df = pd.read_csv('../csv_files/departments.csv')\n",
    "department_df"
   ]
  },
  {
   "cell_type": "code",
   "execution_count": 85,
   "id": "d6984c7d",
   "metadata": {},
   "outputs": [],
   "source": [
    "employee_df.set_index('Department', inplace=True)\n",
    "department_df.set_index('Department', inplace=True)"
   ]
  },
  {
   "cell_type": "code",
   "execution_count": 86,
   "id": "c911d4ac",
   "metadata": {},
   "outputs": [
    {
     "data": {
      "text/html": [
       "<div>\n",
       "<style scoped>\n",
       "    .dataframe tbody tr th:only-of-type {\n",
       "        vertical-align: middle;\n",
       "    }\n",
       "\n",
       "    .dataframe tbody tr th {\n",
       "        vertical-align: top;\n",
       "    }\n",
       "\n",
       "    .dataframe thead th {\n",
       "        text-align: right;\n",
       "    }\n",
       "</style>\n",
       "<table border=\"1\" class=\"dataframe\">\n",
       "  <thead>\n",
       "    <tr style=\"text-align: right;\">\n",
       "      <th></th>\n",
       "      <th>EmployeeID</th>\n",
       "      <th>Name</th>\n",
       "      <th>Salary</th>\n",
       "      <th>DepartmentID</th>\n",
       "      <th>Manager</th>\n",
       "    </tr>\n",
       "    <tr>\n",
       "      <th>Department</th>\n",
       "      <th></th>\n",
       "      <th></th>\n",
       "      <th></th>\n",
       "      <th></th>\n",
       "      <th></th>\n",
       "    </tr>\n",
       "  </thead>\n",
       "  <tbody>\n",
       "    <tr>\n",
       "      <th>Engineering</th>\n",
       "      <td>1</td>\n",
       "      <td>John</td>\n",
       "      <td>55000</td>\n",
       "      <td>1</td>\n",
       "      <td>John Doe</td>\n",
       "    </tr>\n",
       "    <tr>\n",
       "      <th>Marketing</th>\n",
       "      <td>2</td>\n",
       "      <td>Anna</td>\n",
       "      <td>46000</td>\n",
       "      <td>2</td>\n",
       "      <td>Jane Smith</td>\n",
       "    </tr>\n",
       "    <tr>\n",
       "      <th>Engineering</th>\n",
       "      <td>3</td>\n",
       "      <td>Peter</td>\n",
       "      <td>60000</td>\n",
       "      <td>1</td>\n",
       "      <td>John Doe</td>\n",
       "    </tr>\n",
       "    <tr>\n",
       "      <th>HR</th>\n",
       "      <td>4</td>\n",
       "      <td>Linda</td>\n",
       "      <td>75000</td>\n",
       "      <td>3</td>\n",
       "      <td>Michael Brown</td>\n",
       "    </tr>\n",
       "    <tr>\n",
       "      <th>Marketing</th>\n",
       "      <td>5</td>\n",
       "      <td>James</td>\n",
       "      <td>49000</td>\n",
       "      <td>2</td>\n",
       "      <td>Jane Smith</td>\n",
       "    </tr>\n",
       "    <tr>\n",
       "      <th>Engineering</th>\n",
       "      <td>6</td>\n",
       "      <td>Patricia</td>\n",
       "      <td>52000</td>\n",
       "      <td>1</td>\n",
       "      <td>John Doe</td>\n",
       "    </tr>\n",
       "    <tr>\n",
       "      <th>HR</th>\n",
       "      <td>7</td>\n",
       "      <td>Michael</td>\n",
       "      <td>82000</td>\n",
       "      <td>3</td>\n",
       "      <td>Michael Brown</td>\n",
       "    </tr>\n",
       "    <tr>\n",
       "      <th>Engineering</th>\n",
       "      <td>8</td>\n",
       "      <td>Elizabeth</td>\n",
       "      <td>67000</td>\n",
       "      <td>1</td>\n",
       "      <td>John Doe</td>\n",
       "    </tr>\n",
       "    <tr>\n",
       "      <th>Marketing</th>\n",
       "      <td>9</td>\n",
       "      <td>David</td>\n",
       "      <td>500</td>\n",
       "      <td>2</td>\n",
       "      <td>Jane Smith</td>\n",
       "    </tr>\n",
       "    <tr>\n",
       "      <th>HR</th>\n",
       "      <td>10</td>\n",
       "      <td>Susan</td>\n",
       "      <td>3000</td>\n",
       "      <td>3</td>\n",
       "      <td>Michael Brown</td>\n",
       "    </tr>\n",
       "  </tbody>\n",
       "</table>\n",
       "</div>"
      ],
      "text/plain": [
       "             EmployeeID       Name  Salary  DepartmentID        Manager\n",
       "Department                                                             \n",
       "Engineering           1       John   55000             1       John Doe\n",
       "Marketing             2       Anna   46000             2     Jane Smith\n",
       "Engineering           3      Peter   60000             1       John Doe\n",
       "HR                    4      Linda   75000             3  Michael Brown\n",
       "Marketing             5      James   49000             2     Jane Smith\n",
       "Engineering           6   Patricia   52000             1       John Doe\n",
       "HR                    7    Michael   82000             3  Michael Brown\n",
       "Engineering           8  Elizabeth   67000             1       John Doe\n",
       "Marketing             9      David     500             2     Jane Smith\n",
       "HR                   10      Susan    3000             3  Michael Brown"
      ]
     },
     "execution_count": 86,
     "metadata": {},
     "output_type": "execute_result"
    }
   ],
   "source": [
    "joined_df = employee_df.join(department_df, how='inner')\n",
    "joined_df"
   ]
  },
  {
   "cell_type": "code",
   "execution_count": null,
   "id": "7a99f3de",
   "metadata": {},
   "outputs": [],
   "source": [
    "'''employee_df = pd.read_csv('../csv_files/employees.csv')\n",
    "department_df = pd.read_csv('../csv_files/departments.csv')\n",
    "joined_df = pd.merge(employee_df,department_df,how='inner')\n",
    "joined_df'''"
   ]
  },
  {
   "cell_type": "markdown",
   "id": "350bb7e4",
   "metadata": {},
   "source": [
    "17. Apply a function to each element in a column using .apply()"
   ]
  },
  {
   "cell_type": "code",
   "execution_count": 93,
   "id": "2fffdc84",
   "metadata": {},
   "outputs": [
    {
     "data": {
      "text/html": [
       "<div>\n",
       "<style scoped>\n",
       "    .dataframe tbody tr th:only-of-type {\n",
       "        vertical-align: middle;\n",
       "    }\n",
       "\n",
       "    .dataframe tbody tr th {\n",
       "        vertical-align: top;\n",
       "    }\n",
       "\n",
       "    .dataframe thead th {\n",
       "        text-align: right;\n",
       "    }\n",
       "</style>\n",
       "<table border=\"1\" class=\"dataframe\">\n",
       "  <thead>\n",
       "    <tr style=\"text-align: right;\">\n",
       "      <th></th>\n",
       "      <th>EmployeeID</th>\n",
       "      <th>Name</th>\n",
       "      <th>Department</th>\n",
       "      <th>Salary</th>\n",
       "      <th>Annual Income</th>\n",
       "      <th>Bonus Salary</th>\n",
       "    </tr>\n",
       "  </thead>\n",
       "  <tbody>\n",
       "    <tr>\n",
       "      <th>0</th>\n",
       "      <td>1</td>\n",
       "      <td>John</td>\n",
       "      <td>Engineering</td>\n",
       "      <td>55000</td>\n",
       "      <td>660000</td>\n",
       "      <td>665000</td>\n",
       "    </tr>\n",
       "    <tr>\n",
       "      <th>1</th>\n",
       "      <td>2</td>\n",
       "      <td>Anna</td>\n",
       "      <td>Marketing</td>\n",
       "      <td>46000</td>\n",
       "      <td>552000</td>\n",
       "      <td>557000</td>\n",
       "    </tr>\n",
       "    <tr>\n",
       "      <th>2</th>\n",
       "      <td>3</td>\n",
       "      <td>Peter</td>\n",
       "      <td>Engineering</td>\n",
       "      <td>60000</td>\n",
       "      <td>720000</td>\n",
       "      <td>725000</td>\n",
       "    </tr>\n",
       "    <tr>\n",
       "      <th>3</th>\n",
       "      <td>4</td>\n",
       "      <td>Linda</td>\n",
       "      <td>HR</td>\n",
       "      <td>75000</td>\n",
       "      <td>900000</td>\n",
       "      <td>905000</td>\n",
       "    </tr>\n",
       "    <tr>\n",
       "      <th>4</th>\n",
       "      <td>5</td>\n",
       "      <td>James</td>\n",
       "      <td>Marketing</td>\n",
       "      <td>49000</td>\n",
       "      <td>588000</td>\n",
       "      <td>593000</td>\n",
       "    </tr>\n",
       "    <tr>\n",
       "      <th>5</th>\n",
       "      <td>6</td>\n",
       "      <td>Patricia</td>\n",
       "      <td>Engineering</td>\n",
       "      <td>52000</td>\n",
       "      <td>624000</td>\n",
       "      <td>629000</td>\n",
       "    </tr>\n",
       "    <tr>\n",
       "      <th>6</th>\n",
       "      <td>7</td>\n",
       "      <td>Michael</td>\n",
       "      <td>HR</td>\n",
       "      <td>82000</td>\n",
       "      <td>984000</td>\n",
       "      <td>989000</td>\n",
       "    </tr>\n",
       "    <tr>\n",
       "      <th>7</th>\n",
       "      <td>8</td>\n",
       "      <td>Elizabeth</td>\n",
       "      <td>Engineering</td>\n",
       "      <td>67000</td>\n",
       "      <td>804000</td>\n",
       "      <td>809000</td>\n",
       "    </tr>\n",
       "    <tr>\n",
       "      <th>8</th>\n",
       "      <td>9</td>\n",
       "      <td>David</td>\n",
       "      <td>Marketing</td>\n",
       "      <td>500</td>\n",
       "      <td>6000</td>\n",
       "      <td>11000</td>\n",
       "    </tr>\n",
       "    <tr>\n",
       "      <th>9</th>\n",
       "      <td>10</td>\n",
       "      <td>Susan</td>\n",
       "      <td>HR</td>\n",
       "      <td>3000</td>\n",
       "      <td>36000</td>\n",
       "      <td>41000</td>\n",
       "    </tr>\n",
       "  </tbody>\n",
       "</table>\n",
       "</div>"
      ],
      "text/plain": [
       "   EmployeeID       Name   Department  Salary  Annual Income  Bonus Salary\n",
       "0           1       John  Engineering   55000         660000        665000\n",
       "1           2       Anna    Marketing   46000         552000        557000\n",
       "2           3      Peter  Engineering   60000         720000        725000\n",
       "3           4      Linda           HR   75000         900000        905000\n",
       "4           5      James    Marketing   49000         588000        593000\n",
       "5           6   Patricia  Engineering   52000         624000        629000\n",
       "6           7    Michael           HR   82000         984000        989000\n",
       "7           8  Elizabeth  Engineering   67000         804000        809000\n",
       "8           9      David    Marketing     500           6000         11000\n",
       "9          10      Susan           HR    3000          36000         41000"
      ]
     },
     "execution_count": 93,
     "metadata": {},
     "output_type": "execute_result"
    }
   ],
   "source": [
    "employees_df['Bonus Salary'] = employees_df['Annual Income'].apply(lambda x: x + 5000)\n",
    "employees_df"
   ]
  },
  {
   "cell_type": "markdown",
   "id": "4311dba1",
   "metadata": {},
   "source": [
    "18. Create a new DataFrame by filtering rows based on multiple conditions."
   ]
  },
  {
   "cell_type": "code",
   "execution_count": null,
   "id": "0149c958",
   "metadata": {},
   "outputs": [
    {
     "data": {
      "text/html": [
       "<div>\n",
       "<style scoped>\n",
       "    .dataframe tbody tr th:only-of-type {\n",
       "        vertical-align: middle;\n",
       "    }\n",
       "\n",
       "    .dataframe tbody tr th {\n",
       "        vertical-align: top;\n",
       "    }\n",
       "\n",
       "    .dataframe thead th {\n",
       "        text-align: right;\n",
       "    }\n",
       "</style>\n",
       "<table border=\"1\" class=\"dataframe\">\n",
       "  <thead>\n",
       "    <tr style=\"text-align: right;\">\n",
       "      <th></th>\n",
       "      <th>EmployeeID</th>\n",
       "      <th>Name</th>\n",
       "      <th>Department</th>\n",
       "      <th>Salary</th>\n",
       "      <th>Annual Income</th>\n",
       "      <th>Bonus Salary</th>\n",
       "    </tr>\n",
       "  </thead>\n",
       "  <tbody>\n",
       "    <tr>\n",
       "      <th>0</th>\n",
       "      <td>1</td>\n",
       "      <td>John</td>\n",
       "      <td>Engineering</td>\n",
       "      <td>55000</td>\n",
       "      <td>660000</td>\n",
       "      <td>665000</td>\n",
       "    </tr>\n",
       "    <tr>\n",
       "      <th>2</th>\n",
       "      <td>3</td>\n",
       "      <td>Peter</td>\n",
       "      <td>Engineering</td>\n",
       "      <td>60000</td>\n",
       "      <td>720000</td>\n",
       "      <td>725000</td>\n",
       "    </tr>\n",
       "    <tr>\n",
       "      <th>5</th>\n",
       "      <td>6</td>\n",
       "      <td>Patricia</td>\n",
       "      <td>Engineering</td>\n",
       "      <td>52000</td>\n",
       "      <td>624000</td>\n",
       "      <td>629000</td>\n",
       "    </tr>\n",
       "    <tr>\n",
       "      <th>7</th>\n",
       "      <td>8</td>\n",
       "      <td>Elizabeth</td>\n",
       "      <td>Engineering</td>\n",
       "      <td>67000</td>\n",
       "      <td>804000</td>\n",
       "      <td>809000</td>\n",
       "    </tr>\n",
       "  </tbody>\n",
       "</table>\n",
       "</div>"
      ],
      "text/plain": [
       "   EmployeeID       Name   Department  Salary  Annual Income  Bonus Salary\n",
       "0           1       John  Engineering   55000         660000        665000\n",
       "2           3      Peter  Engineering   60000         720000        725000\n",
       "5           6   Patricia  Engineering   52000         624000        629000\n",
       "7           8  Elizabeth  Engineering   67000         804000        809000"
      ]
     },
     "execution_count": 95,
     "metadata": {},
     "output_type": "execute_result"
    }
   ],
   "source": [
    "#Filter: Department is \"Engineering\" AND Salary > 50000\n",
    "filtered_df = employees_df[(employees_df['Department'] == 'Engineering') & (employees_df['Salary'] > 50000)]\n",
    "filtered_df"
   ]
  },
  {
   "cell_type": "markdown",
   "id": "9ecdda53",
   "metadata": {},
   "source": [
    "19. Convert a column from string to a numeric type."
   ]
  },
  {
   "cell_type": "code",
   "execution_count": 100,
   "id": "54845cde",
   "metadata": {},
   "outputs": [
    {
     "data": {
      "text/plain": [
       "EmployeeID        int64\n",
       "Name             object\n",
       "Department       object\n",
       "Salary            int64\n",
       "Annual Income     int64\n",
       "Bonus Salary     object\n",
       "dtype: object"
      ]
     },
     "execution_count": 100,
     "metadata": {},
     "output_type": "execute_result"
    }
   ],
   "source": [
    "employees_df['Bonus Salary'] = employees_df['Bonus Salary'].astype(str)\n",
    "employees_df.dtypes"
   ]
  },
  {
   "cell_type": "code",
   "execution_count": 101,
   "id": "39c1279f",
   "metadata": {},
   "outputs": [
    {
     "data": {
      "text/plain": [
       "EmployeeID        int64\n",
       "Name             object\n",
       "Department       object\n",
       "Salary            int64\n",
       "Annual Income     int64\n",
       "Bonus Salary      int64\n",
       "dtype: object"
      ]
     },
     "execution_count": 101,
     "metadata": {},
     "output_type": "execute_result"
    }
   ],
   "source": [
    "employees_df['Bonus Salary'] = pd.to_numeric(employees_df['Bonus Salary'])\n",
    "employees_df.dtypes"
   ]
  },
  {
   "cell_type": "markdown",
   "id": "61e56617",
   "metadata": {},
   "source": [
    "20. Save the modified DataFrame to a new CSV file."
   ]
  },
  {
   "cell_type": "code",
   "execution_count": 102,
   "id": "e987282d",
   "metadata": {},
   "outputs": [],
   "source": [
    "employees_df.to_csv('../csv_files/modified_employees.csv', index=False)"
   ]
  },
  {
   "cell_type": "markdown",
   "id": "0fc4162b",
   "metadata": {},
   "source": [
    "Notes:\n",
    "index=False prevents pandas from writing row numbers (index) to the CSV.\n",
    "\n",
    "Replace 'modified_employees.csv' with your desired file name or path."
   ]
  }
 ],
 "metadata": {
  "kernelspec": {
   "display_name": "Python 3",
   "language": "python",
   "name": "python3"
  },
  "language_info": {
   "codemirror_mode": {
    "name": "ipython",
    "version": 3
   },
   "file_extension": ".py",
   "mimetype": "text/x-python",
   "name": "python",
   "nbconvert_exporter": "python",
   "pygments_lexer": "ipython3",
   "version": "3.13.3"
  }
 },
 "nbformat": 4,
 "nbformat_minor": 5
}
