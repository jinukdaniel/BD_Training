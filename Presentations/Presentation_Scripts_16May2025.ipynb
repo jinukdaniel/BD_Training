{
 "cells": [
  {
   "cell_type": "markdown",
   "id": "02c7ae89",
   "metadata": {},
   "source": [
    "Positional-or-Keyword Arguments\n",
    "    default behaviour"
   ]
  },
  {
   "cell_type": "code",
   "execution_count": 24,
   "id": "55a9bf0d",
   "metadata": {},
   "outputs": [
    {
     "name": "stdout",
     "output_type": "stream",
     "text": [
      "2\n",
      "2\n"
     ]
    }
   ],
   "source": [
    "def standard_arg(arg):\n",
    "    print(arg)\n",
    "\n",
    "standard_arg(2)       # positional call\n",
    "standard_arg(arg=2)   # keyword call\n"
   ]
  },
  {
   "cell_type": "markdown",
   "id": "8944e454",
   "metadata": {},
   "source": [
    "Positional-only Parameters (/)"
   ]
  },
  {
   "cell_type": "code",
   "execution_count": 26,
   "id": "aad68115",
   "metadata": {},
   "outputs": [
    {
     "name": "stdout",
     "output_type": "stream",
     "text": [
      "1\n"
     ]
    }
   ],
   "source": [
    "def pos_only_arg(arg, /):\n",
    "    print(arg)\n",
    "\n",
    "pos_only_arg(1)       # correct\n",
    "#pos_only_arg(arg=1)   # TypeError\n"
   ]
  },
  {
   "cell_type": "markdown",
   "id": "6f09ffad",
   "metadata": {},
   "source": [
    "Keyword-only Parameters (*)"
   ]
  },
  {
   "cell_type": "code",
   "execution_count": 27,
   "id": "d69073e6",
   "metadata": {},
   "outputs": [
    {
     "name": "stdout",
     "output_type": "stream",
     "text": [
      "3\n"
     ]
    }
   ],
   "source": [
    "def kwd_only_arg(*, arg):\n",
    "    print(arg)\n",
    "\n",
    "kwd_only_arg(arg=3)  # correct\n",
    "#kwd_only_arg(3)      # TypeError\n"
   ]
  },
  {
   "cell_type": "markdown",
   "id": "862c3032",
   "metadata": {},
   "source": [
    "Combined Example (Positional, Positional-or-Keyword, Keyword-only)"
   ]
  },
  {
   "cell_type": "code",
   "execution_count": 28,
   "id": "9025735c",
   "metadata": {},
   "outputs": [
    {
     "name": "stdout",
     "output_type": "stream",
     "text": [
      "1 2 3\n",
      "1 2 3\n"
     ]
    },
    {
     "ename": "TypeError",
     "evalue": "cmb_sample() got some positional-only arguments passed as keyword arguments: 'pos_only'",
     "output_type": "error",
     "traceback": [
      "\u001b[31m---------------------------------------------------------------------------\u001b[39m",
      "\u001b[31mTypeError\u001b[39m                                 Traceback (most recent call last)",
      "\u001b[36mCell\u001b[39m\u001b[36m \u001b[39m\u001b[32mIn[28]\u001b[39m\u001b[32m, line 6\u001b[39m\n\u001b[32m      4\u001b[39m cmb_sample(\u001b[32m1\u001b[39m, \u001b[32m2\u001b[39m, kwd_only=\u001b[32m3\u001b[39m)      \u001b[38;5;66;03m# correct\u001b[39;00m\n\u001b[32m      5\u001b[39m cmb_sample(\u001b[32m1\u001b[39m, std=\u001b[32m2\u001b[39m, kwd_only=\u001b[32m3\u001b[39m)  \u001b[38;5;66;03m# correct\u001b[39;00m\n\u001b[32m----> \u001b[39m\u001b[32m6\u001b[39m \u001b[43mcmb_sample\u001b[49m\u001b[43m(\u001b[49m\u001b[43mpos_only\u001b[49m\u001b[43m=\u001b[49m\u001b[32;43m1\u001b[39;49m\u001b[43m,\u001b[49m\u001b[43m \u001b[49m\u001b[43mstd\u001b[49m\u001b[43m=\u001b[49m\u001b[32;43m2\u001b[39;49m\u001b[43m,\u001b[49m\u001b[43m \u001b[49m\u001b[43mkwd_only\u001b[49m\u001b[43m=\u001b[49m\u001b[32;43m3\u001b[39;49m\u001b[43m)\u001b[49m  \u001b[38;5;66;03m# TypeError\u001b[39;00m\n",
      "\u001b[31mTypeError\u001b[39m: cmb_sample() got some positional-only arguments passed as keyword arguments: 'pos_only'"
     ]
    }
   ],
   "source": [
    "def cmb_sample(pos_only, /, std, *, kwd_only):\n",
    "    print(pos_only, std, kwd_only)\n",
    "\n",
    "cmb_sample(1, 2, kwd_only=3)      # correct\n",
    "cmb_sample(1, std=2, kwd_only=3)  # correct\n",
    "cmb_sample(pos_only=1, std=2, kwd_only=3)  # TypeError\n"
   ]
  },
  {
   "cell_type": "markdown",
   "id": "6813c43f",
   "metadata": {},
   "source": [
    "Arbitrary Argument Lists (*args)"
   ]
  },
  {
   "cell_type": "code",
   "execution_count": 30,
   "id": "bf4fc0e0",
   "metadata": {},
   "outputs": [
    {
     "data": {
      "text/plain": [
       "'earth.mars.venus.mercury'"
      ]
     },
     "execution_count": 30,
     "metadata": {},
     "output_type": "execute_result"
    }
   ],
   "source": [
    "def concat(*args, sep=\"/\"):\n",
    "    return sep.join(args)\n",
    "\n",
    "#concat(\"earth\", \"mars\", \"venus\")          # 'earth/mars/venus'\n",
    "concat(\"earth\", \"mars\", \"venus\",\"mercury\", sep=\".\") # 'earth.mars.venus'\n"
   ]
  },
  {
   "cell_type": "markdown",
   "id": "59b0f6ae",
   "metadata": {},
   "source": [
    "Function Annotations (Optional Metadata)"
   ]
  },
  {
   "cell_type": "code",
   "execution_count": 10,
   "id": "55f3b335",
   "metadata": {},
   "outputs": [
    {
     "name": "stdout",
     "output_type": "stream",
     "text": [
      "Function Annotations =  {'a': <class 'int'>, 'b': <class 'int'>, 'return': <class 'int'>}\n"
     ]
    }
   ],
   "source": [
    "def sum(a : int , b : int) -> int:\n",
    "    return a + b\n",
    "\n",
    "print(\"Function Annotations = \" , sum.__annotations__)\n"
   ]
  },
  {
   "cell_type": "markdown",
   "id": "f0e6fcf3",
   "metadata": {},
   "source": [
    "Lambda Functions:\n",
    "Syntax\n",
    "            lambda arguments: expression\n",
    "Example\n",
    "            lambda a, b: a + b            "
   ]
  },
  {
   "cell_type": "code",
   "execution_count": 31,
   "id": "47735702",
   "metadata": {},
   "outputs": [
    {
     "name": "stdout",
     "output_type": "stream",
     "text": [
      "8\n"
     ]
    }
   ],
   "source": [
    "\n",
    "sum_ab = lambda a, b: a + b\n",
    "print(sum_ab(3,5))\n"
   ]
  },
  {
   "cell_type": "markdown",
   "id": "23da1a33",
   "metadata": {},
   "source": [
    "Documentation Strings (Docstrings)\n",
    "    '''Short summary line + blank line + detailed description'''"
   ]
  },
  {
   "cell_type": "code",
   "execution_count": 22,
   "id": "607f4714",
   "metadata": {},
   "outputs": [
    {
     "name": "stdout",
     "output_type": "stream",
     "text": [
      "Do nothing, but document it.\n",
      "\n",
      "This function literally doesn't do anything.\n",
      "\n"
     ]
    }
   ],
   "source": [
    "def my_function():\n",
    "    \"\"\"Do nothing, but document it.\n",
    "\n",
    "    This function literally doesn't do anything.\n",
    "    \"\"\"\n",
    "\n",
    "print(my_function.__doc__)    \n"
   ]
  },
  {
   "cell_type": "code",
   "execution_count": null,
   "id": "a2de1803",
   "metadata": {},
   "outputs": [],
   "source": [
    "def standard_arg(arg,arg1=1,arg3=3):\n",
    "    print(arg)"
   ]
  },
  {
   "cell_type": "code",
   "execution_count": null,
   "id": "770bd698",
   "metadata": {},
   "outputs": [
    {
     "name": "stdout",
     "output_type": "stream",
     "text": [
      "False\n"
     ]
    }
   ],
   "source": [
    "a,b = 1,5\n",
    "print(not(a == b))"
   ]
  },
  {
   "cell_type": "code",
   "execution_count": null,
   "id": "4803245a",
   "metadata": {},
   "outputs": [],
   "source": []
  }
 ],
 "metadata": {
  "kernelspec": {
   "display_name": "PythonProjects",
   "language": "python",
   "name": "python3"
  },
  "language_info": {
   "codemirror_mode": {
    "name": "ipython",
    "version": 3
   },
   "file_extension": ".py",
   "mimetype": "text/x-python",
   "name": "python",
   "nbconvert_exporter": "python",
   "pygments_lexer": "ipython3",
   "version": "3.13.3"
  }
 },
 "nbformat": 4,
 "nbformat_minor": 5
}
